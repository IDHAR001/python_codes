{
 "cells": [
  {
   "cell_type": "code",
   "execution_count": 1,
   "id": "f0c28e72",
   "metadata": {},
   "outputs": [],
   "source": [
    "import random as rd\n",
    "import numpy as np\n",
    "import pandas as pd"
   ]
  },
  {
   "cell_type": "code",
   "execution_count": 2,
   "id": "ee1e79e3",
   "metadata": {},
   "outputs": [],
   "source": [
    "s = pd.Series(np.arange(3), ['a','b','c'])"
   ]
  },
  {
   "cell_type": "code",
   "execution_count": 3,
   "id": "c0af07e2",
   "metadata": {},
   "outputs": [
    {
     "data": {
      "text/plain": [
       "a    0\n",
       "b    1\n",
       "dtype: int64"
      ]
     },
     "execution_count": 3,
     "metadata": {},
     "output_type": "execute_result"
    }
   ],
   "source": [
    "s[0:2]"
   ]
  },
  {
   "cell_type": "code",
   "execution_count": 4,
   "id": "ea763f60",
   "metadata": {},
   "outputs": [],
   "source": [
    "sr =  pd.Series(np.arange(10))"
   ]
  },
  {
   "cell_type": "code",
   "execution_count": 5,
   "id": "30c46ec5",
   "metadata": {},
   "outputs": [
    {
     "data": {
      "text/plain": [
       "0    0\n",
       "1    1\n",
       "2    2\n",
       "3    3\n",
       "4    4\n",
       "5    5\n",
       "6    6\n",
       "7    7\n",
       "8    8\n",
       "9    9\n",
       "dtype: int64"
      ]
     },
     "execution_count": 5,
     "metadata": {},
     "output_type": "execute_result"
    }
   ],
   "source": [
    "sr"
   ]
  },
  {
   "cell_type": "code",
   "execution_count": 6,
   "id": "e6e228d6",
   "metadata": {},
   "outputs": [],
   "source": [
    "sr2 = sr[4:]"
   ]
  },
  {
   "cell_type": "code",
   "execution_count": 7,
   "id": "2ba6e09b",
   "metadata": {},
   "outputs": [
    {
     "data": {
      "text/plain": [
       "4    4\n",
       "5    5\n",
       "6    6\n",
       "7    7\n",
       "8    8\n",
       "9    9\n",
       "dtype: int64"
      ]
     },
     "execution_count": 7,
     "metadata": {},
     "output_type": "execute_result"
    }
   ],
   "source": [
    "sr2"
   ]
  },
  {
   "cell_type": "code",
   "execution_count": 8,
   "id": "f37a327f",
   "metadata": {},
   "outputs": [
    {
     "data": {
      "text/plain": [
       "4"
      ]
     },
     "execution_count": 8,
     "metadata": {},
     "output_type": "execute_result"
    }
   ],
   "source": [
    "sr2[4]"
   ]
  },
  {
   "cell_type": "code",
   "execution_count": 9,
   "id": "50b497ea",
   "metadata": {},
   "outputs": [
    {
     "data": {
      "text/plain": [
       "4"
      ]
     },
     "execution_count": 9,
     "metadata": {},
     "output_type": "execute_result"
    }
   ],
   "source": [
    "sr2.loc[4]"
   ]
  },
  {
   "cell_type": "code",
   "execution_count": 10,
   "id": "a18f7100",
   "metadata": {},
   "outputs": [
    {
     "data": {
      "text/plain": [
       "4"
      ]
     },
     "execution_count": 10,
     "metadata": {},
     "output_type": "execute_result"
    }
   ],
   "source": [
    "sr2.iloc[0]"
   ]
  },
  {
   "cell_type": "code",
   "execution_count": 11,
   "id": "f63a08c7",
   "metadata": {},
   "outputs": [
    {
     "data": {
      "text/html": [
       "<div>\n",
       "<style scoped>\n",
       "    .dataframe tbody tr th:only-of-type {\n",
       "        vertical-align: middle;\n",
       "    }\n",
       "\n",
       "    .dataframe tbody tr th {\n",
       "        vertical-align: top;\n",
       "    }\n",
       "\n",
       "    .dataframe thead th {\n",
       "        text-align: right;\n",
       "    }\n",
       "</style>\n",
       "<table border=\"1\" class=\"dataframe\">\n",
       "  <thead>\n",
       "    <tr style=\"text-align: right;\">\n",
       "      <th></th>\n",
       "      <th>a</th>\n",
       "      <th>b</th>\n",
       "      <th>c</th>\n",
       "    </tr>\n",
       "  </thead>\n",
       "  <tbody>\n",
       "    <tr>\n",
       "      <th>0</th>\n",
       "      <td>1</td>\n",
       "      <td>2</td>\n",
       "      <td>3</td>\n",
       "    </tr>\n",
       "    <tr>\n",
       "      <th>1</th>\n",
       "      <td>4</td>\n",
       "      <td>5</td>\n",
       "      <td>6</td>\n",
       "    </tr>\n",
       "  </tbody>\n",
       "</table>\n",
       "</div>"
      ],
      "text/plain": [
       "   a  b  c\n",
       "0  1  2  3\n",
       "1  4  5  6"
      ]
     },
     "execution_count": 11,
     "metadata": {},
     "output_type": "execute_result"
    }
   ],
   "source": [
    "pd.read_csv('../demo.csv')"
   ]
  },
  {
   "cell_type": "code",
   "execution_count": 12,
   "id": "1aad58fe",
   "metadata": {},
   "outputs": [],
   "source": [
    "df = _9"
   ]
  },
  {
   "cell_type": "code",
   "execution_count": 13,
   "id": "1e133dd8",
   "metadata": {},
   "outputs": [
    {
     "data": {
      "text/plain": [
       "4"
      ]
     },
     "execution_count": 13,
     "metadata": {},
     "output_type": "execute_result"
    }
   ],
   "source": [
    "df"
   ]
  },
  {
   "cell_type": "markdown",
   "id": "69b984fb",
   "metadata": {},
   "source": [
    "df.to_csv('../test.csv')"
   ]
  },
  {
   "cell_type": "code",
   "execution_count": 15,
   "id": "ec201d2e",
   "metadata": {},
   "outputs": [],
   "source": [
    "df2 = pd.read_csv('../test.csv', index_col=0)"
   ]
  },
  {
   "cell_type": "code",
   "execution_count": 16,
   "id": "ac9ff31c",
   "metadata": {},
   "outputs": [
    {
     "data": {
      "text/html": [
       "<div>\n",
       "<style scoped>\n",
       "    .dataframe tbody tr th:only-of-type {\n",
       "        vertical-align: middle;\n",
       "    }\n",
       "\n",
       "    .dataframe tbody tr th {\n",
       "        vertical-align: top;\n",
       "    }\n",
       "\n",
       "    .dataframe thead th {\n",
       "        text-align: right;\n",
       "    }\n",
       "</style>\n",
       "<table border=\"1\" class=\"dataframe\">\n",
       "  <thead>\n",
       "    <tr style=\"text-align: right;\">\n",
       "      <th></th>\n",
       "      <th>a</th>\n",
       "      <th>b</th>\n",
       "      <th>c</th>\n",
       "    </tr>\n",
       "  </thead>\n",
       "  <tbody>\n",
       "    <tr>\n",
       "      <th>0</th>\n",
       "      <td>1</td>\n",
       "      <td>2</td>\n",
       "      <td>3</td>\n",
       "    </tr>\n",
       "    <tr>\n",
       "      <th>1</th>\n",
       "      <td>4</td>\n",
       "      <td>5</td>\n",
       "      <td>6</td>\n",
       "    </tr>\n",
       "  </tbody>\n",
       "</table>\n",
       "</div>"
      ],
      "text/plain": [
       "   a  b  c\n",
       "0  1  2  3\n",
       "1  4  5  6"
      ]
     },
     "execution_count": 16,
     "metadata": {},
     "output_type": "execute_result"
    }
   ],
   "source": [
    "df2"
   ]
  },
  {
   "cell_type": "code",
   "execution_count": 17,
   "id": "55b083bf",
   "metadata": {},
   "outputs": [
    {
     "data": {
      "text/html": [
       "<div>\n",
       "<style scoped>\n",
       "    .dataframe tbody tr th:only-of-type {\n",
       "        vertical-align: middle;\n",
       "    }\n",
       "\n",
       "    .dataframe tbody tr th {\n",
       "        vertical-align: top;\n",
       "    }\n",
       "\n",
       "    .dataframe thead th {\n",
       "        text-align: right;\n",
       "    }\n",
       "</style>\n",
       "<table border=\"1\" class=\"dataframe\">\n",
       "  <thead>\n",
       "    <tr style=\"text-align: right;\">\n",
       "      <th></th>\n",
       "      <th>0</th>\n",
       "      <th>1</th>\n",
       "    </tr>\n",
       "  </thead>\n",
       "  <tbody>\n",
       "    <tr>\n",
       "      <th>a</th>\n",
       "      <td>1</td>\n",
       "      <td>4</td>\n",
       "    </tr>\n",
       "    <tr>\n",
       "      <th>b</th>\n",
       "      <td>2</td>\n",
       "      <td>5</td>\n",
       "    </tr>\n",
       "    <tr>\n",
       "      <th>c</th>\n",
       "      <td>3</td>\n",
       "      <td>6</td>\n",
       "    </tr>\n",
       "  </tbody>\n",
       "</table>\n",
       "</div>"
      ],
      "text/plain": [
       "   0  1\n",
       "a  1  4\n",
       "b  2  5\n",
       "c  3  6"
      ]
     },
     "execution_count": 17,
     "metadata": {},
     "output_type": "execute_result"
    }
   ],
   "source": [
    "df2.T"
   ]
  },
  {
   "cell_type": "code",
   "execution_count": 18,
   "id": "9611a693",
   "metadata": {},
   "outputs": [
    {
     "ename": "AttributeError",
     "evalue": "'numpy.int64' object has no attribute 'columns'",
     "output_type": "error",
     "traceback": [
      "\u001b[0;31m---------------------------------------------------------------------------\u001b[0m",
      "\u001b[0;31mAttributeError\u001b[0m                            Traceback (most recent call last)",
      "Cell \u001b[0;32mIn[18], line 1\u001b[0m\n\u001b[0;32m----> 1\u001b[0m \u001b[43mdf\u001b[49m\u001b[38;5;241;43m.\u001b[39;49m\u001b[43mcolumns\u001b[49m\n",
      "\u001b[0;31mAttributeError\u001b[0m: 'numpy.int64' object has no attribute 'columns'"
     ]
    }
   ],
   "source": [
    "df.columns"
   ]
  },
  {
   "cell_type": "code",
   "execution_count": 19,
   "id": "602c0583",
   "metadata": {},
   "outputs": [
    {
     "ename": "AttributeError",
     "evalue": "'numpy.int64' object has no attribute 'describe'",
     "output_type": "error",
     "traceback": [
      "\u001b[0;31m---------------------------------------------------------------------------\u001b[0m",
      "\u001b[0;31mAttributeError\u001b[0m                            Traceback (most recent call last)",
      "Cell \u001b[0;32mIn[19], line 1\u001b[0m\n\u001b[0;32m----> 1\u001b[0m \u001b[43mdf\u001b[49m\u001b[38;5;241;43m.\u001b[39;49m\u001b[43mdescribe\u001b[49m()\n",
      "\u001b[0;31mAttributeError\u001b[0m: 'numpy.int64' object has no attribute 'describe'"
     ]
    }
   ],
   "source": [
    "df.describe()"
   ]
  },
  {
   "cell_type": "code",
   "execution_count": 20,
   "id": "87518d24",
   "metadata": {},
   "outputs": [
    {
     "ename": "IndexError",
     "evalue": "invalid index to scalar variable.",
     "output_type": "error",
     "traceback": [
      "\u001b[0;31m---------------------------------------------------------------------------\u001b[0m",
      "\u001b[0;31mIndexError\u001b[0m                                Traceback (most recent call last)",
      "Cell \u001b[0;32mIn[20], line 1\u001b[0m\n\u001b[0;32m----> 1\u001b[0m \u001b[43mdf\u001b[49m\u001b[43m[\u001b[49m\u001b[38;5;124;43m'\u001b[39;49m\u001b[38;5;124;43ma\u001b[39;49m\u001b[38;5;124;43m'\u001b[39;49m\u001b[43m]\u001b[49m\n",
      "\u001b[0;31mIndexError\u001b[0m: invalid index to scalar variable."
     ]
    }
   ],
   "source": [
    "df['a']"
   ]
  },
  {
   "cell_type": "code",
   "execution_count": 21,
   "id": "16c521ef",
   "metadata": {},
   "outputs": [
    {
     "ename": "IndexError",
     "evalue": "invalid index to scalar variable.",
     "output_type": "error",
     "traceback": [
      "\u001b[0;31m---------------------------------------------------------------------------\u001b[0m",
      "\u001b[0;31mIndexError\u001b[0m                                Traceback (most recent call last)",
      "Cell \u001b[0;32mIn[21], line 1\u001b[0m\n\u001b[0;32m----> 1\u001b[0m \u001b[43mdf\u001b[49m\u001b[43m[\u001b[49m\u001b[38;5;124;43m'\u001b[39;49m\u001b[38;5;124;43ma\u001b[39;49m\u001b[38;5;124;43m'\u001b[39;49m\u001b[43m]\u001b[49m[\u001b[38;5;241m1\u001b[39m]\n",
      "\u001b[0;31mIndexError\u001b[0m: invalid index to scalar variable."
     ]
    }
   ],
   "source": [
    "df['a'][1]"
   ]
  },
  {
   "cell_type": "code",
   "execution_count": 22,
   "id": "c2cca4b0",
   "metadata": {},
   "outputs": [
    {
     "data": {
      "text/plain": [
       "4"
      ]
     },
     "execution_count": 22,
     "metadata": {},
     "output_type": "execute_result"
    }
   ],
   "source": [
    "df"
   ]
  },
  {
   "cell_type": "code",
   "execution_count": 23,
   "id": "d1166f44",
   "metadata": {},
   "outputs": [
    {
     "ename": "AttributeError",
     "evalue": "'numpy.int64' object has no attribute 'loc'",
     "output_type": "error",
     "traceback": [
      "\u001b[0;31m---------------------------------------------------------------------------\u001b[0m",
      "\u001b[0;31mAttributeError\u001b[0m                            Traceback (most recent call last)",
      "Cell \u001b[0;32mIn[23], line 1\u001b[0m\n\u001b[0;32m----> 1\u001b[0m \u001b[43mdf\u001b[49m\u001b[38;5;241;43m.\u001b[39;49m\u001b[43mloc\u001b[49m[\u001b[38;5;241m0\u001b[39m,]\n",
      "\u001b[0;31mAttributeError\u001b[0m: 'numpy.int64' object has no attribute 'loc'"
     ]
    }
   ],
   "source": [
    "df.loc[0,]"
   ]
  },
  {
   "cell_type": "code",
   "execution_count": 24,
   "id": "2649f508",
   "metadata": {},
   "outputs": [],
   "source": [
    "df2 = pd.DataFrame({'one':[1,2,3],'two':[3,4,5]}, index=['a','b','c'])"
   ]
  },
  {
   "cell_type": "code",
   "execution_count": 25,
   "id": "3b7abbfc",
   "metadata": {},
   "outputs": [
    {
     "data": {
      "text/html": [
       "<div>\n",
       "<style scoped>\n",
       "    .dataframe tbody tr th:only-of-type {\n",
       "        vertical-align: middle;\n",
       "    }\n",
       "\n",
       "    .dataframe tbody tr th {\n",
       "        vertical-align: top;\n",
       "    }\n",
       "\n",
       "    .dataframe thead th {\n",
       "        text-align: right;\n",
       "    }\n",
       "</style>\n",
       "<table border=\"1\" class=\"dataframe\">\n",
       "  <thead>\n",
       "    <tr style=\"text-align: right;\">\n",
       "      <th></th>\n",
       "      <th>one</th>\n",
       "      <th>two</th>\n",
       "    </tr>\n",
       "  </thead>\n",
       "  <tbody>\n",
       "    <tr>\n",
       "      <th>a</th>\n",
       "      <td>1</td>\n",
       "      <td>3</td>\n",
       "    </tr>\n",
       "    <tr>\n",
       "      <th>b</th>\n",
       "      <td>2</td>\n",
       "      <td>4</td>\n",
       "    </tr>\n",
       "    <tr>\n",
       "      <th>c</th>\n",
       "      <td>3</td>\n",
       "      <td>5</td>\n",
       "    </tr>\n",
       "  </tbody>\n",
       "</table>\n",
       "</div>"
      ],
      "text/plain": [
       "   one  two\n",
       "a    1    3\n",
       "b    2    4\n",
       "c    3    5"
      ]
     },
     "execution_count": 25,
     "metadata": {},
     "output_type": "execute_result"
    }
   ],
   "source": [
    "df2"
   ]
  },
  {
   "cell_type": "code",
   "execution_count": 26,
   "id": "effec64e",
   "metadata": {},
   "outputs": [
    {
     "data": {
      "text/plain": [
       "DatetimeIndex(['2010-01-01', '2010-01-02', '2010-01-03', '2010-01-04',\n",
       "               '2010-01-05', '2010-01-06', '2010-01-07', '2010-01-08',\n",
       "               '2010-01-09', '2010-01-10',\n",
       "               ...\n",
       "               '2018-01-24', '2018-01-25', '2018-01-26', '2018-01-27',\n",
       "               '2018-01-28', '2018-01-29', '2018-01-30', '2018-01-31',\n",
       "               '2018-02-01', '2018-02-02'],\n",
       "              dtype='datetime64[ns]', length=2955, freq='D')"
      ]
     },
     "execution_count": 26,
     "metadata": {},
     "output_type": "execute_result"
    }
   ],
   "source": [
    "pd.date_range('2010-1-1','2018-2-2')"
   ]
  },
  {
   "cell_type": "code",
   "execution_count": 34,
   "id": "b09b452f",
   "metadata": {},
   "outputs": [],
   "source": [
    "sr = pd.Series(np.arange(100), index=pd.date_range('2015-1-1', periods=100))"
   ]
  },
  {
   "cell_type": "code",
   "execution_count": 37,
   "id": "3b41ad36",
   "metadata": {},
   "outputs": [
    {
     "data": {
      "text/plain": [
       "DatetimeIndex(['2015-01-01', '2015-01-02', '2015-01-03', '2015-01-04',\n",
       "               '2015-01-05', '2015-01-06', '2015-01-07', '2015-01-08',\n",
       "               '2015-01-09', '2015-01-10', '2015-01-11', '2015-01-12',\n",
       "               '2015-01-13', '2015-01-14', '2015-01-15', '2015-01-16',\n",
       "               '2015-01-17', '2015-01-18', '2015-01-19', '2015-01-20',\n",
       "               '2015-01-21', '2015-01-22', '2015-01-23', '2015-01-24',\n",
       "               '2015-01-25', '2015-01-26', '2015-01-27', '2015-01-28',\n",
       "               '2015-01-29', '2015-01-30', '2015-01-31', '2015-02-01',\n",
       "               '2015-02-02', '2015-02-03', '2015-02-04', '2015-02-05',\n",
       "               '2015-02-06', '2015-02-07', '2015-02-08', '2015-02-09',\n",
       "               '2015-02-10', '2015-02-11', '2015-02-12', '2015-02-13',\n",
       "               '2015-02-14', '2015-02-15', '2015-02-16', '2015-02-17',\n",
       "               '2015-02-18', '2015-02-19', '2015-02-20', '2015-02-21',\n",
       "               '2015-02-22', '2015-02-23', '2015-02-24', '2015-02-25',\n",
       "               '2015-02-26', '2015-02-27', '2015-02-28', '2015-03-01',\n",
       "               '2015-03-02', '2015-03-03', '2015-03-04', '2015-03-05',\n",
       "               '2015-03-06', '2015-03-07', '2015-03-08', '2015-03-09',\n",
       "               '2015-03-10', '2015-03-11', '2015-03-12', '2015-03-13',\n",
       "               '2015-03-14', '2015-03-15', '2015-03-16', '2015-03-17',\n",
       "               '2015-03-18', '2015-03-19', '2015-03-20', '2015-03-21',\n",
       "               '2015-03-22', '2015-03-23', '2015-03-24', '2015-03-25',\n",
       "               '2015-03-26', '2015-03-27', '2015-03-28', '2015-03-29',\n",
       "               '2015-03-30', '2015-03-31', '2015-04-01', '2015-04-02',\n",
       "               '2015-04-03', '2015-04-04', '2015-04-05', '2015-04-06',\n",
       "               '2015-04-07', '2015-04-08', '2015-04-09', '2015-04-10'],\n",
       "              dtype='datetime64[ns]', freq='D')"
      ]
     },
     "execution_count": 37,
     "metadata": {},
     "output_type": "execute_result"
    }
   ],
   "source": [
    "sr.index"
   ]
  },
  {
   "cell_type": "code",
   "execution_count": 39,
   "id": "e322394d",
   "metadata": {},
   "outputs": [
    {
     "data": {
      "text/plain": [
       "2015-01-01     0\n",
       "2015-01-02     1\n",
       "2015-01-03     2\n",
       "2015-01-04     3\n",
       "2015-01-05     4\n",
       "2015-01-06     5\n",
       "2015-01-07     6\n",
       "2015-01-08     7\n",
       "2015-01-09     8\n",
       "2015-01-10     9\n",
       "2015-01-11    10\n",
       "2015-01-12    11\n",
       "2015-01-13    12\n",
       "2015-01-14    13\n",
       "2015-01-15    14\n",
       "2015-01-16    15\n",
       "2015-01-17    16\n",
       "2015-01-18    17\n",
       "2015-01-19    18\n",
       "2015-01-20    19\n",
       "2015-01-21    20\n",
       "2015-01-22    21\n",
       "2015-01-23    22\n",
       "2015-01-24    23\n",
       "2015-01-25    24\n",
       "2015-01-26    25\n",
       "2015-01-27    26\n",
       "2015-01-28    27\n",
       "2015-01-29    28\n",
       "2015-01-30    29\n",
       "2015-01-31    30\n",
       "Freq: D, dtype: int64"
      ]
     },
     "execution_count": 39,
     "metadata": {},
     "output_type": "execute_result"
    }
   ],
   "source": [
    "sr['2015-1']"
   ]
  },
  {
   "cell_type": "code",
   "execution_count": 41,
   "id": "c15d08f0",
   "metadata": {},
   "outputs": [
    {
     "data": {
      "text/plain": [
       "2015-01-31     465\n",
       "2015-02-28    1246\n",
       "2015-03-31    2294\n",
       "2015-04-30     945\n",
       "Freq: M, dtype: int64"
      ]
     },
     "execution_count": 41,
     "metadata": {},
     "output_type": "execute_result"
    }
   ],
   "source": [
    "sr.resample('M').sum()"
   ]
  },
  {
   "cell_type": "code",
   "execution_count": 42,
   "id": "1109e9eb",
   "metadata": {},
   "outputs": [
    {
     "data": {
      "text/plain": [
       "2015-01-31    15.0\n",
       "2015-02-28    44.5\n",
       "2015-03-31    74.0\n",
       "2015-04-30    94.5\n",
       "Freq: M, dtype: float64"
      ]
     },
     "execution_count": 42,
     "metadata": {},
     "output_type": "execute_result"
    }
   ],
   "source": [
    "sr.resample('M').mean()"
   ]
  },
  {
   "cell_type": "code",
   "execution_count": 3,
   "id": "70311173",
   "metadata": {},
   "outputs": [],
   "source": [
    "import matplotlib.pyplot as plt"
   ]
  },
  {
   "cell_type": "code",
   "execution_count": 31,
   "id": "1abc9b94",
   "metadata": {},
   "outputs": [
    {
     "data": {
      "image/png": "[encoded data removed]",
      "text/plain": [
       "<Figure size 640x480 with 1 Axes>"
      ]
     },
     "metadata": {},
     "output_type": "display_data"
    }
   ],
   "source": [
    "plt.plot([1,2,3,4],[7,3,4,5], \"o-.g\", label='line A')\n",
    "plt.plot([3,1,7,10],[2,4,1,1], \"r\", marker='o')\n",
    "plt.title(\"Matplotlib Plot\")\n",
    "plt.xlabel(\"Xlabel\")\n",
    "plt.ylabel(\"Ylabel\")\n",
    "plt.xlim(0, 10)\n",
    "plt.ylim(0, 10)\n",
    "plt.legend()\n",
    "plt.show()"
   ]
  },
  {
   "cell_type": "code",
   "execution_count": 39,
   "id": "eb37f9a0",
   "metadata": {},
   "outputs": [
    {
     "data": {
      "image/png": "[encoded data removed]",
      "text/plain": [
       "<Figure size 640x480 with 1 Axes>"
      ]
     },
     "metadata": {},
     "output_type": "display_data"
    }
   ],
   "source": [
    "# x = np.arange(100)\n",
    "x = np.linspace(-100,100,1000)\n",
    "plt.plot( x, x**2, \"og\", label='y=x**2')\n",
    "plt.plot( x, 3*x**3+5*x**2+2*x+1, \"or\", label='y=3*x**3+5*x**2+2*x+1')\n",
    "\n",
    "plt.legend()\n",
    "plt.show()"
   ]
  },
  {
   "cell_type": "code",
   "execution_count": 50,
   "id": "968b2c66",
   "metadata": {},
   "outputs": [
    {
     "data": {
      "image/png": "[encoded data removed]",
      "text/plain": [
       "<Figure size 640x480 with 2 Axes>"
      ]
     },
     "metadata": {},
     "output_type": "display_data"
    }
   ],
   "source": [
    "fig = plt.figure()\n",
    "ax1 = fig.add_subplot(2,2,4)\n",
    "ax2 = fig.add_subplot(2,2,1)\n",
    "ax1.plot([1,2,3],[3,4,5])\n",
    "ax2.plot([3,5,8,9],[1,2,3,4])\n",
    "plt.show()"
   ]
  },
  {
   "cell_type": "code",
   "execution_count": 56,
   "id": "77274758",
   "metadata": {},
   "outputs": [
    {
     "data": {
      "image/png": "[encoded data removed]",
      "text/plain": [
       "<Figure size 640x480 with 1 Axes>"
      ]
     },
     "metadata": {},
     "output_type": "display_data"
    }
   ],
   "source": [
    "plt.pie([10,20,30,40], labels=['a','b','c','d'], autopct=\"%.0f%%\", explode=[0.1,0.1,0.1,0.1])\n",
    "plt.show()"
   ]
  },
  {
   "cell_type": "code",
   "execution_count": 177,
   "id": "21a70f6c",
   "metadata": {},
   "outputs": [],
   "source": [
    "import mplfinance as mpf\n",
    "from matplotlib.dates import date2num"
   ]
  },
  {
   "cell_type": "code",
   "execution_count": 178,
   "id": "566da1a5",
   "metadata": {},
   "outputs": [
    {
     "data": {
      "text/html": [
       "<div>\n",
       "<style scoped>\n",
       "    .dataframe tbody tr th:only-of-type {\n",
       "        vertical-align: middle;\n",
       "    }\n",
       "\n",
       "    .dataframe tbody tr th {\n",
       "        vertical-align: top;\n",
       "    }\n",
       "\n",
       "    .dataframe thead th {\n",
       "        text-align: right;\n",
       "    }\n",
       "</style>\n",
       "<table border=\"1\" class=\"dataframe\">\n",
       "  <thead>\n",
       "    <tr style=\"text-align: right;\">\n",
       "      <th></th>\n",
       "      <th>code</th>\n",
       "      <th>open</th>\n",
       "      <th>high</th>\n",
       "      <th>low</th>\n",
       "      <th>close</th>\n",
       "      <th>preclose</th>\n",
       "      <th>volume</th>\n",
       "      <th>amount</th>\n",
       "      <th>adjustflag</th>\n",
       "      <th>turn</th>\n",
       "      <th>tradestatus</th>\n",
       "      <th>pctChg</th>\n",
       "      <th>peTTM</th>\n",
       "      <th>pbMRQ</th>\n",
       "      <th>psTTM</th>\n",
       "      <th>pcfNcfTTM</th>\n",
       "      <th>isST</th>\n",
       "    </tr>\n",
       "    <tr>\n",
       "      <th>date</th>\n",
       "      <th></th>\n",
       "      <th></th>\n",
       "      <th></th>\n",
       "      <th></th>\n",
       "      <th></th>\n",
       "      <th></th>\n",
       "      <th></th>\n",
       "      <th></th>\n",
       "      <th></th>\n",
       "      <th></th>\n",
       "      <th></th>\n",
       "      <th></th>\n",
       "      <th></th>\n",
       "      <th></th>\n",
       "      <th></th>\n",
       "      <th></th>\n",
       "      <th></th>\n",
       "    </tr>\n",
       "  </thead>\n",
       "  <tbody>\n",
       "    <tr>\n",
       "      <th>2017-06-01</th>\n",
       "      <td>sh.600000</td>\n",
       "      <td>12.78</td>\n",
       "      <td>12.97</td>\n",
       "      <td>12.69</td>\n",
       "      <td>12.92</td>\n",
       "      <td>12.84</td>\n",
       "      <td>96217055</td>\n",
       "      <td>1.235216e+09</td>\n",
       "      <td>3</td>\n",
       "      <td>0.342364</td>\n",
       "      <td>1</td>\n",
       "      <td>0.623052</td>\n",
       "      <td>6.769340</td>\n",
       "      <td>1.037013</td>\n",
       "      <td>2.255830</td>\n",
       "      <td>-3.293370</td>\n",
       "      <td>0</td>\n",
       "    </tr>\n",
       "    <tr>\n",
       "      <th>2017-06-02</th>\n",
       "      <td>sh.600000</td>\n",
       "      <td>12.93</td>\n",
       "      <td>13.01</td>\n",
       "      <td>12.74</td>\n",
       "      <td>12.89</td>\n",
       "      <td>12.92</td>\n",
       "      <td>80197701</td>\n",
       "      <td>1.034450e+09</td>\n",
       "      <td>3</td>\n",
       "      <td>0.285363</td>\n",
       "      <td>1</td>\n",
       "      <td>-0.232196</td>\n",
       "      <td>6.753622</td>\n",
       "      <td>1.034605</td>\n",
       "      <td>2.250592</td>\n",
       "      <td>-3.285723</td>\n",
       "      <td>0</td>\n",
       "    </tr>\n",
       "    <tr>\n",
       "      <th>2017-06-05</th>\n",
       "      <td>sh.600000</td>\n",
       "      <td>12.79</td>\n",
       "      <td>12.88</td>\n",
       "      <td>12.51</td>\n",
       "      <td>12.85</td>\n",
       "      <td>12.89</td>\n",
       "      <td>75876475</td>\n",
       "      <td>9.632273e+08</td>\n",
       "      <td>3</td>\n",
       "      <td>0.269987</td>\n",
       "      <td>1</td>\n",
       "      <td>-0.310318</td>\n",
       "      <td>6.732664</td>\n",
       "      <td>1.031394</td>\n",
       "      <td>2.243608</td>\n",
       "      <td>-3.275527</td>\n",
       "      <td>0</td>\n",
       "    </tr>\n",
       "    <tr>\n",
       "      <th>2017-06-06</th>\n",
       "      <td>sh.600000</td>\n",
       "      <td>12.80</td>\n",
       "      <td>12.84</td>\n",
       "      <td>12.66</td>\n",
       "      <td>12.80</td>\n",
       "      <td>12.85</td>\n",
       "      <td>36104406</td>\n",
       "      <td>4.604694e+08</td>\n",
       "      <td>3</td>\n",
       "      <td>0.128468</td>\n",
       "      <td>1</td>\n",
       "      <td>-0.389107</td>\n",
       "      <td>6.706467</td>\n",
       "      <td>1.027381</td>\n",
       "      <td>2.234878</td>\n",
       "      <td>-3.262781</td>\n",
       "      <td>0</td>\n",
       "    </tr>\n",
       "    <tr>\n",
       "      <th>2017-06-07</th>\n",
       "      <td>sh.600000</td>\n",
       "      <td>12.81</td>\n",
       "      <td>12.99</td>\n",
       "      <td>12.78</td>\n",
       "      <td>12.84</td>\n",
       "      <td>12.80</td>\n",
       "      <td>64395191</td>\n",
       "      <td>8.277666e+08</td>\n",
       "      <td>3</td>\n",
       "      <td>0.229134</td>\n",
       "      <td>1</td>\n",
       "      <td>0.312500</td>\n",
       "      <td>6.727425</td>\n",
       "      <td>1.030591</td>\n",
       "      <td>2.241862</td>\n",
       "      <td>-3.272978</td>\n",
       "      <td>0</td>\n",
       "    </tr>\n",
       "    <tr>\n",
       "      <th>...</th>\n",
       "      <td>...</td>\n",
       "      <td>...</td>\n",
       "      <td>...</td>\n",
       "      <td>...</td>\n",
       "      <td>...</td>\n",
       "      <td>...</td>\n",
       "      <td>...</td>\n",
       "      <td>...</td>\n",
       "      <td>...</td>\n",
       "      <td>...</td>\n",
       "      <td>...</td>\n",
       "      <td>...</td>\n",
       "      <td>...</td>\n",
       "      <td>...</td>\n",
       "      <td>...</td>\n",
       "      <td>...</td>\n",
       "      <td>...</td>\n",
       "    </tr>\n",
       "    <tr>\n",
       "      <th>2017-12-25</th>\n",
       "      <td>sh.600000</td>\n",
       "      <td>12.61</td>\n",
       "      <td>12.68</td>\n",
       "      <td>12.56</td>\n",
       "      <td>12.59</td>\n",
       "      <td>12.62</td>\n",
       "      <td>19306662</td>\n",
       "      <td>2.435537e+08</td>\n",
       "      <td>3</td>\n",
       "      <td>0.068698</td>\n",
       "      <td>1</td>\n",
       "      <td>-0.237716</td>\n",
       "      <td>6.804447</td>\n",
       "      <td>0.953811</td>\n",
       "      <td>2.244659</td>\n",
       "      <td>-1.985017</td>\n",
       "      <td>0</td>\n",
       "    </tr>\n",
       "    <tr>\n",
       "      <th>2017-12-26</th>\n",
       "      <td>sh.600000</td>\n",
       "      <td>12.57</td>\n",
       "      <td>12.66</td>\n",
       "      <td>12.56</td>\n",
       "      <td>12.64</td>\n",
       "      <td>12.59</td>\n",
       "      <td>15225722</td>\n",
       "      <td>1.922191e+08</td>\n",
       "      <td>3</td>\n",
       "      <td>0.054177</td>\n",
       "      <td>1</td>\n",
       "      <td>0.397142</td>\n",
       "      <td>6.831470</td>\n",
       "      <td>0.957599</td>\n",
       "      <td>2.253573</td>\n",
       "      <td>-1.992900</td>\n",
       "      <td>0</td>\n",
       "    </tr>\n",
       "    <tr>\n",
       "      <th>2017-12-27</th>\n",
       "      <td>sh.600000</td>\n",
       "      <td>12.65</td>\n",
       "      <td>12.66</td>\n",
       "      <td>12.53</td>\n",
       "      <td>12.62</td>\n",
       "      <td>12.64</td>\n",
       "      <td>32731881</td>\n",
       "      <td>4.121980e+08</td>\n",
       "      <td>3</td>\n",
       "      <td>0.116468</td>\n",
       "      <td>1</td>\n",
       "      <td>-0.158231</td>\n",
       "      <td>6.820661</td>\n",
       "      <td>0.956084</td>\n",
       "      <td>2.250008</td>\n",
       "      <td>-1.989747</td>\n",
       "      <td>0</td>\n",
       "    </tr>\n",
       "    <tr>\n",
       "      <th>2017-12-28</th>\n",
       "      <td>sh.600000</td>\n",
       "      <td>12.60</td>\n",
       "      <td>12.66</td>\n",
       "      <td>12.53</td>\n",
       "      <td>12.54</td>\n",
       "      <td>12.62</td>\n",
       "      <td>23870824</td>\n",
       "      <td>3.008340e+08</td>\n",
       "      <td>3</td>\n",
       "      <td>0.084938</td>\n",
       "      <td>1</td>\n",
       "      <td>-0.633914</td>\n",
       "      <td>6.777423</td>\n",
       "      <td>0.950023</td>\n",
       "      <td>2.235744</td>\n",
       "      <td>-1.977134</td>\n",
       "      <td>0</td>\n",
       "    </tr>\n",
       "    <tr>\n",
       "      <th>2017-12-29</th>\n",
       "      <td>sh.600000</td>\n",
       "      <td>12.52</td>\n",
       "      <td>12.62</td>\n",
       "      <td>12.51</td>\n",
       "      <td>12.59</td>\n",
       "      <td>12.54</td>\n",
       "      <td>16351826</td>\n",
       "      <td>2.057529e+08</td>\n",
       "      <td>3</td>\n",
       "      <td>0.058184</td>\n",
       "      <td>1</td>\n",
       "      <td>0.398726</td>\n",
       "      <td>6.804447</td>\n",
       "      <td>0.953811</td>\n",
       "      <td>2.244659</td>\n",
       "      <td>-1.985017</td>\n",
       "      <td>0</td>\n",
       "    </tr>\n",
       "  </tbody>\n",
       "</table>\n",
       "<p>147 rows × 17 columns</p>\n",
       "</div>"
      ],
      "text/plain": [
       "                 code   open   high    low  close  preclose    volume  \\\n",
       "date                                                                    \n",
       "2017-06-01  sh.600000  12.78  12.97  12.69  12.92     12.84  96217055   \n",
       "2017-06-02  sh.600000  12.93  13.01  12.74  12.89     12.92  80197701   \n",
       "2017-06-05  sh.600000  12.79  12.88  12.51  12.85     12.89  75876475   \n",
       "2017-06-06  sh.600000  12.80  12.84  12.66  12.80     12.85  36104406   \n",
       "2017-06-07  sh.600000  12.81  12.99  12.78  12.84     12.80  64395191   \n",
       "...               ...    ...    ...    ...    ...       ...       ...   \n",
       "2017-12-25  sh.600000  12.61  12.68  12.56  12.59     12.62  19306662   \n",
       "2017-12-26  sh.600000  12.57  12.66  12.56  12.64     12.59  15225722   \n",
       "2017-12-27  sh.600000  12.65  12.66  12.53  12.62     12.64  32731881   \n",
       "2017-12-28  sh.600000  12.60  12.66  12.53  12.54     12.62  23870824   \n",
       "2017-12-29  sh.600000  12.52  12.62  12.51  12.59     12.54  16351826   \n",
       "\n",
       "                  amount  adjustflag      turn  tradestatus    pctChg  \\\n",
       "date                                                                    \n",
       "2017-06-01  1.235216e+09           3  0.342364            1  0.623052   \n",
       "2017-06-02  1.034450e+09           3  0.285363            1 -0.232196   \n",
       "2017-06-05  9.632273e+08           3  0.269987            1 -0.310318   \n",
       "2017-06-06  4.604694e+08           3  0.128468            1 -0.389107   \n",
       "2017-06-07  8.277666e+08           3  0.229134            1  0.312500   \n",
       "...                  ...         ...       ...          ...       ...   \n",
       "2017-12-25  2.435537e+08           3  0.068698            1 -0.237716   \n",
       "2017-12-26  1.922191e+08           3  0.054177            1  0.397142   \n",
       "2017-12-27  4.121980e+08           3  0.116468            1 -0.158231   \n",
       "2017-12-28  3.008340e+08           3  0.084938            1 -0.633914   \n",
       "2017-12-29  2.057529e+08           3  0.058184            1  0.398726   \n",
       "\n",
       "               peTTM     pbMRQ     psTTM  pcfNcfTTM  isST  \n",
       "date                                                       \n",
       "2017-06-01  6.769340  1.037013  2.255830  -3.293370     0  \n",
       "2017-06-02  6.753622  1.034605  2.250592  -3.285723     0  \n",
       "2017-06-05  6.732664  1.031394  2.243608  -3.275527     0  \n",
       "2017-06-06  6.706467  1.027381  2.234878  -3.262781     0  \n",
       "2017-06-07  6.727425  1.030591  2.241862  -3.272978     0  \n",
       "...              ...       ...       ...        ...   ...  \n",
       "2017-12-25  6.804447  0.953811  2.244659  -1.985017     0  \n",
       "2017-12-26  6.831470  0.957599  2.253573  -1.992900     0  \n",
       "2017-12-27  6.820661  0.956084  2.250008  -1.989747     0  \n",
       "2017-12-28  6.777423  0.950023  2.235744  -1.977134     0  \n",
       "2017-12-29  6.804447  0.953811  2.244659  -1.985017     0  \n",
       "\n",
       "[147 rows x 17 columns]"
      ]
     },
     "execution_count": 178,
     "metadata": {},
     "output_type": "execute_result"
    }
   ],
   "source": [
    "df = pd.read_csv(\"/Users/zhangzhicong/Downloads/history_k_data.csv\", encoding=\"gbk\", index_col=\"date\", parse_dates=True)\n",
    "df"
   ]
  },
  {
   "cell_type": "code",
   "execution_count": 179,
   "id": "1f7d0ce1",
   "metadata": {},
   "outputs": [
    {
     "data": {
      "text/plain": [
       "DatetimeIndex(['2017-06-01', '2017-06-02', '2017-06-05', '2017-06-06',\n",
       "               '2017-06-07', '2017-06-08', '2017-06-09', '2017-06-12',\n",
       "               '2017-06-13', '2017-06-14',\n",
       "               ...\n",
       "               '2017-12-18', '2017-12-19', '2017-12-20', '2017-12-21',\n",
       "               '2017-12-22', '2017-12-25', '2017-12-26', '2017-12-27',\n",
       "               '2017-12-28', '2017-12-29'],\n",
       "              dtype='datetime64[ns]', name='date', length=147, freq=None)"
      ]
     },
     "execution_count": 179,
     "metadata": {},
     "output_type": "execute_result"
    }
   ],
   "source": [
    "df.index"
   ]
  },
  {
   "cell_type": "code",
   "execution_count": 180,
   "id": "3d6c1fe3",
   "metadata": {},
   "outputs": [
    {
     "data": {
      "text/plain": [
       "array([datetime.datetime(2017, 6, 1, 0, 0),\n",
       "       datetime.datetime(2017, 6, 2, 0, 0),\n",
       "       datetime.datetime(2017, 6, 5, 0, 0),\n",
       "       datetime.datetime(2017, 6, 6, 0, 0),\n",
       "       datetime.datetime(2017, 6, 7, 0, 0),\n",
       "       datetime.datetime(2017, 6, 8, 0, 0),\n",
       "       datetime.datetime(2017, 6, 9, 0, 0),\n",
       "       datetime.datetime(2017, 6, 12, 0, 0),\n",
       "       datetime.datetime(2017, 6, 13, 0, 0),\n",
       "       datetime.datetime(2017, 6, 14, 0, 0),\n",
       "       datetime.datetime(2017, 6, 15, 0, 0),\n",
       "       datetime.datetime(2017, 6, 16, 0, 0),\n",
       "       datetime.datetime(2017, 6, 19, 0, 0),\n",
       "       datetime.datetime(2017, 6, 20, 0, 0),\n",
       "       datetime.datetime(2017, 6, 21, 0, 0),\n",
       "       datetime.datetime(2017, 6, 22, 0, 0),\n",
       "       datetime.datetime(2017, 6, 23, 0, 0),\n",
       "       datetime.datetime(2017, 6, 26, 0, 0),\n",
       "       datetime.datetime(2017, 6, 27, 0, 0),\n",
       "       datetime.datetime(2017, 6, 28, 0, 0),\n",
       "       datetime.datetime(2017, 6, 29, 0, 0),\n",
       "       datetime.datetime(2017, 6, 30, 0, 0),\n",
       "       datetime.datetime(2017, 7, 3, 0, 0),\n",
       "       datetime.datetime(2017, 7, 4, 0, 0),\n",
       "       datetime.datetime(2017, 7, 5, 0, 0),\n",
       "       datetime.datetime(2017, 7, 6, 0, 0),\n",
       "       datetime.datetime(2017, 7, 7, 0, 0),\n",
       "       datetime.datetime(2017, 7, 10, 0, 0),\n",
       "       datetime.datetime(2017, 7, 11, 0, 0),\n",
       "       datetime.datetime(2017, 7, 12, 0, 0),\n",
       "       datetime.datetime(2017, 7, 13, 0, 0),\n",
       "       datetime.datetime(2017, 7, 14, 0, 0),\n",
       "       datetime.datetime(2017, 7, 17, 0, 0),\n",
       "       datetime.datetime(2017, 7, 18, 0, 0),\n",
       "       datetime.datetime(2017, 7, 19, 0, 0),\n",
       "       datetime.datetime(2017, 7, 20, 0, 0),\n",
       "       datetime.datetime(2017, 7, 21, 0, 0),\n",
       "       datetime.datetime(2017, 7, 24, 0, 0),\n",
       "       datetime.datetime(2017, 7, 25, 0, 0),\n",
       "       datetime.datetime(2017, 7, 26, 0, 0),\n",
       "       datetime.datetime(2017, 7, 27, 0, 0),\n",
       "       datetime.datetime(2017, 7, 28, 0, 0),\n",
       "       datetime.datetime(2017, 7, 31, 0, 0),\n",
       "       datetime.datetime(2017, 8, 1, 0, 0),\n",
       "       datetime.datetime(2017, 8, 2, 0, 0),\n",
       "       datetime.datetime(2017, 8, 3, 0, 0),\n",
       "       datetime.datetime(2017, 8, 4, 0, 0),\n",
       "       datetime.datetime(2017, 8, 7, 0, 0),\n",
       "       datetime.datetime(2017, 8, 8, 0, 0),\n",
       "       datetime.datetime(2017, 8, 9, 0, 0),\n",
       "       datetime.datetime(2017, 8, 10, 0, 0),\n",
       "       datetime.datetime(2017, 8, 11, 0, 0),\n",
       "       datetime.datetime(2017, 8, 14, 0, 0),\n",
       "       datetime.datetime(2017, 8, 15, 0, 0),\n",
       "       datetime.datetime(2017, 8, 16, 0, 0),\n",
       "       datetime.datetime(2017, 8, 17, 0, 0),\n",
       "       datetime.datetime(2017, 8, 18, 0, 0),\n",
       "       datetime.datetime(2017, 8, 21, 0, 0),\n",
       "       datetime.datetime(2017, 8, 22, 0, 0),\n",
       "       datetime.datetime(2017, 8, 23, 0, 0),\n",
       "       datetime.datetime(2017, 8, 24, 0, 0),\n",
       "       datetime.datetime(2017, 8, 25, 0, 0),\n",
       "       datetime.datetime(2017, 8, 28, 0, 0),\n",
       "       datetime.datetime(2017, 8, 29, 0, 0),\n",
       "       datetime.datetime(2017, 8, 30, 0, 0),\n",
       "       datetime.datetime(2017, 8, 31, 0, 0),\n",
       "       datetime.datetime(2017, 9, 1, 0, 0),\n",
       "       datetime.datetime(2017, 9, 4, 0, 0),\n",
       "       datetime.datetime(2017, 9, 5, 0, 0),\n",
       "       datetime.datetime(2017, 9, 6, 0, 0),\n",
       "       datetime.datetime(2017, 9, 7, 0, 0),\n",
       "       datetime.datetime(2017, 9, 8, 0, 0),\n",
       "       datetime.datetime(2017, 9, 11, 0, 0),\n",
       "       datetime.datetime(2017, 9, 12, 0, 0),\n",
       "       datetime.datetime(2017, 9, 13, 0, 0),\n",
       "       datetime.datetime(2017, 9, 14, 0, 0),\n",
       "       datetime.datetime(2017, 9, 15, 0, 0),\n",
       "       datetime.datetime(2017, 9, 18, 0, 0),\n",
       "       datetime.datetime(2017, 9, 19, 0, 0),\n",
       "       datetime.datetime(2017, 9, 20, 0, 0),\n",
       "       datetime.datetime(2017, 9, 21, 0, 0),\n",
       "       datetime.datetime(2017, 9, 22, 0, 0),\n",
       "       datetime.datetime(2017, 9, 25, 0, 0),\n",
       "       datetime.datetime(2017, 9, 26, 0, 0),\n",
       "       datetime.datetime(2017, 9, 27, 0, 0),\n",
       "       datetime.datetime(2017, 9, 28, 0, 0),\n",
       "       datetime.datetime(2017, 9, 29, 0, 0),\n",
       "       datetime.datetime(2017, 10, 9, 0, 0),\n",
       "       datetime.datetime(2017, 10, 10, 0, 0),\n",
       "       datetime.datetime(2017, 10, 11, 0, 0),\n",
       "       datetime.datetime(2017, 10, 12, 0, 0),\n",
       "       datetime.datetime(2017, 10, 13, 0, 0),\n",
       "       datetime.datetime(2017, 10, 16, 0, 0),\n",
       "       datetime.datetime(2017, 10, 17, 0, 0),\n",
       "       datetime.datetime(2017, 10, 18, 0, 0),\n",
       "       datetime.datetime(2017, 10, 19, 0, 0),\n",
       "       datetime.datetime(2017, 10, 20, 0, 0),\n",
       "       datetime.datetime(2017, 10, 23, 0, 0),\n",
       "       datetime.datetime(2017, 10, 24, 0, 0),\n",
       "       datetime.datetime(2017, 10, 25, 0, 0),\n",
       "       datetime.datetime(2017, 10, 26, 0, 0),\n",
       "       datetime.datetime(2017, 10, 27, 0, 0),\n",
       "       datetime.datetime(2017, 10, 30, 0, 0),\n",
       "       datetime.datetime(2017, 10, 31, 0, 0),\n",
       "       datetime.datetime(2017, 11, 1, 0, 0),\n",
       "       datetime.datetime(2017, 11, 2, 0, 0),\n",
       "       datetime.datetime(2017, 11, 3, 0, 0),\n",
       "       datetime.datetime(2017, 11, 6, 0, 0),\n",
       "       datetime.datetime(2017, 11, 7, 0, 0),\n",
       "       datetime.datetime(2017, 11, 8, 0, 0),\n",
       "       datetime.datetime(2017, 11, 9, 0, 0),\n",
       "       datetime.datetime(2017, 11, 10, 0, 0),\n",
       "       datetime.datetime(2017, 11, 13, 0, 0),\n",
       "       datetime.datetime(2017, 11, 14, 0, 0),\n",
       "       datetime.datetime(2017, 11, 15, 0, 0),\n",
       "       datetime.datetime(2017, 11, 16, 0, 0),\n",
       "       datetime.datetime(2017, 11, 17, 0, 0),\n",
       "       datetime.datetime(2017, 11, 20, 0, 0),\n",
       "       datetime.datetime(2017, 11, 21, 0, 0),\n",
       "       datetime.datetime(2017, 11, 22, 0, 0),\n",
       "       datetime.datetime(2017, 11, 23, 0, 0),\n",
       "       datetime.datetime(2017, 11, 24, 0, 0),\n",
       "       datetime.datetime(2017, 11, 27, 0, 0),\n",
       "       datetime.datetime(2017, 11, 28, 0, 0),\n",
       "       datetime.datetime(2017, 11, 29, 0, 0),\n",
       "       datetime.datetime(2017, 11, 30, 0, 0),\n",
       "       datetime.datetime(2017, 12, 1, 0, 0),\n",
       "       datetime.datetime(2017, 12, 4, 0, 0),\n",
       "       datetime.datetime(2017, 12, 5, 0, 0),\n",
       "       datetime.datetime(2017, 12, 6, 0, 0),\n",
       "       datetime.datetime(2017, 12, 7, 0, 0),\n",
       "       datetime.datetime(2017, 12, 8, 0, 0),\n",
       "       datetime.datetime(2017, 12, 11, 0, 0),\n",
       "       datetime.datetime(2017, 12, 12, 0, 0),\n",
       "       datetime.datetime(2017, 12, 13, 0, 0),\n",
       "       datetime.datetime(2017, 12, 14, 0, 0),\n",
       "       datetime.datetime(2017, 12, 15, 0, 0),\n",
       "       datetime.datetime(2017, 12, 18, 0, 0),\n",
       "       datetime.datetime(2017, 12, 19, 0, 0),\n",
       "       datetime.datetime(2017, 12, 20, 0, 0),\n",
       "       datetime.datetime(2017, 12, 21, 0, 0),\n",
       "       datetime.datetime(2017, 12, 22, 0, 0),\n",
       "       datetime.datetime(2017, 12, 25, 0, 0),\n",
       "       datetime.datetime(2017, 12, 26, 0, 0),\n",
       "       datetime.datetime(2017, 12, 27, 0, 0),\n",
       "       datetime.datetime(2017, 12, 28, 0, 0),\n",
       "       datetime.datetime(2017, 12, 29, 0, 0)], dtype=object)"
      ]
     },
     "execution_count": 180,
     "metadata": {},
     "output_type": "execute_result"
    }
   ],
   "source": [
    " df.index.to_pydatetime()"
   ]
  },
  {
   "cell_type": "code",
   "execution_count": 181,
   "id": "41bd12f7",
   "metadata": {},
   "outputs": [],
   "source": [
    "df['time'] = date2num(df.index.to_pydatetime())"
   ]
  },
  {
   "cell_type": "code",
   "execution_count": 182,
   "id": "0cb0c113",
   "metadata": {},
   "outputs": [
    {
     "data": {
      "text/html": [
       "<div>\n",
       "<style scoped>\n",
       "    .dataframe tbody tr th:only-of-type {\n",
       "        vertical-align: middle;\n",
       "    }\n",
       "\n",
       "    .dataframe tbody tr th {\n",
       "        vertical-align: top;\n",
       "    }\n",
       "\n",
       "    .dataframe thead th {\n",
       "        text-align: right;\n",
       "    }\n",
       "</style>\n",
       "<table border=\"1\" class=\"dataframe\">\n",
       "  <thead>\n",
       "    <tr style=\"text-align: right;\">\n",
       "      <th></th>\n",
       "      <th>code</th>\n",
       "      <th>open</th>\n",
       "      <th>high</th>\n",
       "      <th>low</th>\n",
       "      <th>close</th>\n",
       "      <th>preclose</th>\n",
       "      <th>volume</th>\n",
       "      <th>amount</th>\n",
       "      <th>adjustflag</th>\n",
       "      <th>turn</th>\n",
       "      <th>tradestatus</th>\n",
       "      <th>pctChg</th>\n",
       "      <th>peTTM</th>\n",
       "      <th>pbMRQ</th>\n",
       "      <th>psTTM</th>\n",
       "      <th>pcfNcfTTM</th>\n",
       "      <th>isST</th>\n",
       "      <th>time</th>\n",
       "    </tr>\n",
       "    <tr>\n",
       "      <th>date</th>\n",
       "      <th></th>\n",
       "      <th></th>\n",
       "      <th></th>\n",
       "      <th></th>\n",
       "      <th></th>\n",
       "      <th></th>\n",
       "      <th></th>\n",
       "      <th></th>\n",
       "      <th></th>\n",
       "      <th></th>\n",
       "      <th></th>\n",
       "      <th></th>\n",
       "      <th></th>\n",
       "      <th></th>\n",
       "      <th></th>\n",
       "      <th></th>\n",
       "      <th></th>\n",
       "      <th></th>\n",
       "    </tr>\n",
       "  </thead>\n",
       "  <tbody>\n",
       "    <tr>\n",
       "      <th>2017-06-01</th>\n",
       "      <td>sh.600000</td>\n",
       "      <td>12.78</td>\n",
       "      <td>12.97</td>\n",
       "      <td>12.69</td>\n",
       "      <td>12.92</td>\n",
       "      <td>12.84</td>\n",
       "      <td>96217055</td>\n",
       "      <td>1.235216e+09</td>\n",
       "      <td>3</td>\n",
       "      <td>0.342364</td>\n",
       "      <td>1</td>\n",
       "      <td>0.623052</td>\n",
       "      <td>6.769340</td>\n",
       "      <td>1.037013</td>\n",
       "      <td>2.255830</td>\n",
       "      <td>-3.293370</td>\n",
       "      <td>0</td>\n",
       "      <td>17318.0</td>\n",
       "    </tr>\n",
       "    <tr>\n",
       "      <th>2017-06-02</th>\n",
       "      <td>sh.600000</td>\n",
       "      <td>12.93</td>\n",
       "      <td>13.01</td>\n",
       "      <td>12.74</td>\n",
       "      <td>12.89</td>\n",
       "      <td>12.92</td>\n",
       "      <td>80197701</td>\n",
       "      <td>1.034450e+09</td>\n",
       "      <td>3</td>\n",
       "      <td>0.285363</td>\n",
       "      <td>1</td>\n",
       "      <td>-0.232196</td>\n",
       "      <td>6.753622</td>\n",
       "      <td>1.034605</td>\n",
       "      <td>2.250592</td>\n",
       "      <td>-3.285723</td>\n",
       "      <td>0</td>\n",
       "      <td>17319.0</td>\n",
       "    </tr>\n",
       "    <tr>\n",
       "      <th>2017-06-05</th>\n",
       "      <td>sh.600000</td>\n",
       "      <td>12.79</td>\n",
       "      <td>12.88</td>\n",
       "      <td>12.51</td>\n",
       "      <td>12.85</td>\n",
       "      <td>12.89</td>\n",
       "      <td>75876475</td>\n",
       "      <td>9.632273e+08</td>\n",
       "      <td>3</td>\n",
       "      <td>0.269987</td>\n",
       "      <td>1</td>\n",
       "      <td>-0.310318</td>\n",
       "      <td>6.732664</td>\n",
       "      <td>1.031394</td>\n",
       "      <td>2.243608</td>\n",
       "      <td>-3.275527</td>\n",
       "      <td>0</td>\n",
       "      <td>17322.0</td>\n",
       "    </tr>\n",
       "    <tr>\n",
       "      <th>2017-06-06</th>\n",
       "      <td>sh.600000</td>\n",
       "      <td>12.80</td>\n",
       "      <td>12.84</td>\n",
       "      <td>12.66</td>\n",
       "      <td>12.80</td>\n",
       "      <td>12.85</td>\n",
       "      <td>36104406</td>\n",
       "      <td>4.604694e+08</td>\n",
       "      <td>3</td>\n",
       "      <td>0.128468</td>\n",
       "      <td>1</td>\n",
       "      <td>-0.389107</td>\n",
       "      <td>6.706467</td>\n",
       "      <td>1.027381</td>\n",
       "      <td>2.234878</td>\n",
       "      <td>-3.262781</td>\n",
       "      <td>0</td>\n",
       "      <td>17323.0</td>\n",
       "    </tr>\n",
       "    <tr>\n",
       "      <th>2017-06-07</th>\n",
       "      <td>sh.600000</td>\n",
       "      <td>12.81</td>\n",
       "      <td>12.99</td>\n",
       "      <td>12.78</td>\n",
       "      <td>12.84</td>\n",
       "      <td>12.80</td>\n",
       "      <td>64395191</td>\n",
       "      <td>8.277666e+08</td>\n",
       "      <td>3</td>\n",
       "      <td>0.229134</td>\n",
       "      <td>1</td>\n",
       "      <td>0.312500</td>\n",
       "      <td>6.727425</td>\n",
       "      <td>1.030591</td>\n",
       "      <td>2.241862</td>\n",
       "      <td>-3.272978</td>\n",
       "      <td>0</td>\n",
       "      <td>17324.0</td>\n",
       "    </tr>\n",
       "    <tr>\n",
       "      <th>...</th>\n",
       "      <td>...</td>\n",
       "      <td>...</td>\n",
       "      <td>...</td>\n",
       "      <td>...</td>\n",
       "      <td>...</td>\n",
       "      <td>...</td>\n",
       "      <td>...</td>\n",
       "      <td>...</td>\n",
       "      <td>...</td>\n",
       "      <td>...</td>\n",
       "      <td>...</td>\n",
       "      <td>...</td>\n",
       "      <td>...</td>\n",
       "      <td>...</td>\n",
       "      <td>...</td>\n",
       "      <td>...</td>\n",
       "      <td>...</td>\n",
       "      <td>...</td>\n",
       "    </tr>\n",
       "    <tr>\n",
       "      <th>2017-12-25</th>\n",
       "      <td>sh.600000</td>\n",
       "      <td>12.61</td>\n",
       "      <td>12.68</td>\n",
       "      <td>12.56</td>\n",
       "      <td>12.59</td>\n",
       "      <td>12.62</td>\n",
       "      <td>19306662</td>\n",
       "      <td>2.435537e+08</td>\n",
       "      <td>3</td>\n",
       "      <td>0.068698</td>\n",
       "      <td>1</td>\n",
       "      <td>-0.237716</td>\n",
       "      <td>6.804447</td>\n",
       "      <td>0.953811</td>\n",
       "      <td>2.244659</td>\n",
       "      <td>-1.985017</td>\n",
       "      <td>0</td>\n",
       "      <td>17525.0</td>\n",
       "    </tr>\n",
       "    <tr>\n",
       "      <th>2017-12-26</th>\n",
       "      <td>sh.600000</td>\n",
       "      <td>12.57</td>\n",
       "      <td>12.66</td>\n",
       "      <td>12.56</td>\n",
       "      <td>12.64</td>\n",
       "      <td>12.59</td>\n",
       "      <td>15225722</td>\n",
       "      <td>1.922191e+08</td>\n",
       "      <td>3</td>\n",
       "      <td>0.054177</td>\n",
       "      <td>1</td>\n",
       "      <td>0.397142</td>\n",
       "      <td>6.831470</td>\n",
       "      <td>0.957599</td>\n",
       "      <td>2.253573</td>\n",
       "      <td>-1.992900</td>\n",
       "      <td>0</td>\n",
       "      <td>17526.0</td>\n",
       "    </tr>\n",
       "    <tr>\n",
       "      <th>2017-12-27</th>\n",
       "      <td>sh.600000</td>\n",
       "      <td>12.65</td>\n",
       "      <td>12.66</td>\n",
       "      <td>12.53</td>\n",
       "      <td>12.62</td>\n",
       "      <td>12.64</td>\n",
       "      <td>32731881</td>\n",
       "      <td>4.121980e+08</td>\n",
       "      <td>3</td>\n",
       "      <td>0.116468</td>\n",
       "      <td>1</td>\n",
       "      <td>-0.158231</td>\n",
       "      <td>6.820661</td>\n",
       "      <td>0.956084</td>\n",
       "      <td>2.250008</td>\n",
       "      <td>-1.989747</td>\n",
       "      <td>0</td>\n",
       "      <td>17527.0</td>\n",
       "    </tr>\n",
       "    <tr>\n",
       "      <th>2017-12-28</th>\n",
       "      <td>sh.600000</td>\n",
       "      <td>12.60</td>\n",
       "      <td>12.66</td>\n",
       "      <td>12.53</td>\n",
       "      <td>12.54</td>\n",
       "      <td>12.62</td>\n",
       "      <td>23870824</td>\n",
       "      <td>3.008340e+08</td>\n",
       "      <td>3</td>\n",
       "      <td>0.084938</td>\n",
       "      <td>1</td>\n",
       "      <td>-0.633914</td>\n",
       "      <td>6.777423</td>\n",
       "      <td>0.950023</td>\n",
       "      <td>2.235744</td>\n",
       "      <td>-1.977134</td>\n",
       "      <td>0</td>\n",
       "      <td>17528.0</td>\n",
       "    </tr>\n",
       "    <tr>\n",
       "      <th>2017-12-29</th>\n",
       "      <td>sh.600000</td>\n",
       "      <td>12.52</td>\n",
       "      <td>12.62</td>\n",
       "      <td>12.51</td>\n",
       "      <td>12.59</td>\n",
       "      <td>12.54</td>\n",
       "      <td>16351826</td>\n",
       "      <td>2.057529e+08</td>\n",
       "      <td>3</td>\n",
       "      <td>0.058184</td>\n",
       "      <td>1</td>\n",
       "      <td>0.398726</td>\n",
       "      <td>6.804447</td>\n",
       "      <td>0.953811</td>\n",
       "      <td>2.244659</td>\n",
       "      <td>-1.985017</td>\n",
       "      <td>0</td>\n",
       "      <td>17529.0</td>\n",
       "    </tr>\n",
       "  </tbody>\n",
       "</table>\n",
       "<p>147 rows × 18 columns</p>\n",
       "</div>"
      ],
      "text/plain": [
       "                 code   open   high    low  close  preclose    volume  \\\n",
       "date                                                                    \n",
       "2017-06-01  sh.600000  12.78  12.97  12.69  12.92     12.84  96217055   \n",
       "2017-06-02  sh.600000  12.93  13.01  12.74  12.89     12.92  80197701   \n",
       "2017-06-05  sh.600000  12.79  12.88  12.51  12.85     12.89  75876475   \n",
       "2017-06-06  sh.600000  12.80  12.84  12.66  12.80     12.85  36104406   \n",
       "2017-06-07  sh.600000  12.81  12.99  12.78  12.84     12.80  64395191   \n",
       "...               ...    ...    ...    ...    ...       ...       ...   \n",
       "2017-12-25  sh.600000  12.61  12.68  12.56  12.59     12.62  19306662   \n",
       "2017-12-26  sh.600000  12.57  12.66  12.56  12.64     12.59  15225722   \n",
       "2017-12-27  sh.600000  12.65  12.66  12.53  12.62     12.64  32731881   \n",
       "2017-12-28  sh.600000  12.60  12.66  12.53  12.54     12.62  23870824   \n",
       "2017-12-29  sh.600000  12.52  12.62  12.51  12.59     12.54  16351826   \n",
       "\n",
       "                  amount  adjustflag      turn  tradestatus    pctChg  \\\n",
       "date                                                                    \n",
       "2017-06-01  1.235216e+09           3  0.342364            1  0.623052   \n",
       "2017-06-02  1.034450e+09           3  0.285363            1 -0.232196   \n",
       "2017-06-05  9.632273e+08           3  0.269987            1 -0.310318   \n",
       "2017-06-06  4.604694e+08           3  0.128468            1 -0.389107   \n",
       "2017-06-07  8.277666e+08           3  0.229134            1  0.312500   \n",
       "...                  ...         ...       ...          ...       ...   \n",
       "2017-12-25  2.435537e+08           3  0.068698            1 -0.237716   \n",
       "2017-12-26  1.922191e+08           3  0.054177            1  0.397142   \n",
       "2017-12-27  4.121980e+08           3  0.116468            1 -0.158231   \n",
       "2017-12-28  3.008340e+08           3  0.084938            1 -0.633914   \n",
       "2017-12-29  2.057529e+08           3  0.058184            1  0.398726   \n",
       "\n",
       "               peTTM     pbMRQ     psTTM  pcfNcfTTM  isST     time  \n",
       "date                                                                \n",
       "2017-06-01  6.769340  1.037013  2.255830  -3.293370     0  17318.0  \n",
       "2017-06-02  6.753622  1.034605  2.250592  -3.285723     0  17319.0  \n",
       "2017-06-05  6.732664  1.031394  2.243608  -3.275527     0  17322.0  \n",
       "2017-06-06  6.706467  1.027381  2.234878  -3.262781     0  17323.0  \n",
       "2017-06-07  6.727425  1.030591  2.241862  -3.272978     0  17324.0  \n",
       "...              ...       ...       ...        ...   ...      ...  \n",
       "2017-12-25  6.804447  0.953811  2.244659  -1.985017     0  17525.0  \n",
       "2017-12-26  6.831470  0.957599  2.253573  -1.992900     0  17526.0  \n",
       "2017-12-27  6.820661  0.956084  2.250008  -1.989747     0  17527.0  \n",
       "2017-12-28  6.777423  0.950023  2.235744  -1.977134     0  17528.0  \n",
       "2017-12-29  6.804447  0.953811  2.244659  -1.985017     0  17529.0  \n",
       "\n",
       "[147 rows x 18 columns]"
      ]
     },
     "execution_count": 182,
     "metadata": {},
     "output_type": "execute_result"
    }
   ],
   "source": [
    "df"
   ]
  },
  {
   "cell_type": "code",
   "execution_count": 127,
   "id": "47a43d6b",
   "metadata": {},
   "outputs": [],
   "source": [
    "# fig = plt.figure()\n",
    "# ax = fig.add_subplot(1,1,1)"
   ]
  },
  {
   "cell_type": "code",
   "execution_count": 183,
   "id": "e4eb3986",
   "metadata": {},
   "outputs": [
    {
     "data": {
      "image/png": "[encoded data removed]",
      "text/plain": [
       "<Figure size 800x575 with 2 Axes>"
      ]
     },
     "metadata": {},
     "output_type": "display_data"
    }
   ],
   "source": [
    "mpf.plot(df)"
   ]
  },
  {
   "cell_type": "code",
   "execution_count": 185,
   "id": "52338584",
   "metadata": {},
   "outputs": [
    {
     "data": {
      "text/html": [
       "<div>\n",
       "<style scoped>\n",
       "    .dataframe tbody tr th:only-of-type {\n",
       "        vertical-align: middle;\n",
       "    }\n",
       "\n",
       "    .dataframe tbody tr th {\n",
       "        vertical-align: top;\n",
       "    }\n",
       "\n",
       "    .dataframe thead th {\n",
       "        text-align: right;\n",
       "    }\n",
       "</style>\n",
       "<table border=\"1\" class=\"dataframe\">\n",
       "  <thead>\n",
       "    <tr style=\"text-align: right;\">\n",
       "      <th></th>\n",
       "      <th>code</th>\n",
       "      <th>open</th>\n",
       "      <th>high</th>\n",
       "      <th>low</th>\n",
       "      <th>close</th>\n",
       "      <th>preclose</th>\n",
       "      <th>volume</th>\n",
       "      <th>amount</th>\n",
       "      <th>adjustflag</th>\n",
       "      <th>turn</th>\n",
       "      <th>tradestatus</th>\n",
       "      <th>pctChg</th>\n",
       "      <th>peTTM</th>\n",
       "      <th>pbMRQ</th>\n",
       "      <th>psTTM</th>\n",
       "      <th>pcfNcfTTM</th>\n",
       "      <th>isST</th>\n",
       "      <th>time</th>\n",
       "      <th>raise</th>\n",
       "    </tr>\n",
       "    <tr>\n",
       "      <th>date</th>\n",
       "      <th></th>\n",
       "      <th></th>\n",
       "      <th></th>\n",
       "      <th></th>\n",
       "      <th></th>\n",
       "      <th></th>\n",
       "      <th></th>\n",
       "      <th></th>\n",
       "      <th></th>\n",
       "      <th></th>\n",
       "      <th></th>\n",
       "      <th></th>\n",
       "      <th></th>\n",
       "      <th></th>\n",
       "      <th></th>\n",
       "      <th></th>\n",
       "      <th></th>\n",
       "      <th></th>\n",
       "      <th></th>\n",
       "    </tr>\n",
       "  </thead>\n",
       "  <tbody>\n",
       "    <tr>\n",
       "      <th>2017-06-01</th>\n",
       "      <td>sh.600000</td>\n",
       "      <td>12.78</td>\n",
       "      <td>12.97</td>\n",
       "      <td>12.69</td>\n",
       "      <td>12.92</td>\n",
       "      <td>12.84</td>\n",
       "      <td>96217055</td>\n",
       "      <td>1.235216e+09</td>\n",
       "      <td>3</td>\n",
       "      <td>0.342364</td>\n",
       "      <td>1</td>\n",
       "      <td>0.623052</td>\n",
       "      <td>6.769340</td>\n",
       "      <td>1.037013</td>\n",
       "      <td>2.255830</td>\n",
       "      <td>-3.293370</td>\n",
       "      <td>0</td>\n",
       "      <td>17318.0</td>\n",
       "      <td>0.022065</td>\n",
       "    </tr>\n",
       "    <tr>\n",
       "      <th>2017-06-02</th>\n",
       "      <td>sh.600000</td>\n",
       "      <td>12.93</td>\n",
       "      <td>13.01</td>\n",
       "      <td>12.74</td>\n",
       "      <td>12.89</td>\n",
       "      <td>12.92</td>\n",
       "      <td>80197701</td>\n",
       "      <td>1.034450e+09</td>\n",
       "      <td>3</td>\n",
       "      <td>0.285363</td>\n",
       "      <td>1</td>\n",
       "      <td>-0.232196</td>\n",
       "      <td>6.753622</td>\n",
       "      <td>1.034605</td>\n",
       "      <td>2.250592</td>\n",
       "      <td>-3.285723</td>\n",
       "      <td>0</td>\n",
       "      <td>17319.0</td>\n",
       "      <td>0.021193</td>\n",
       "    </tr>\n",
       "    <tr>\n",
       "      <th>2017-06-05</th>\n",
       "      <td>sh.600000</td>\n",
       "      <td>12.79</td>\n",
       "      <td>12.88</td>\n",
       "      <td>12.51</td>\n",
       "      <td>12.85</td>\n",
       "      <td>12.89</td>\n",
       "      <td>75876475</td>\n",
       "      <td>9.632273e+08</td>\n",
       "      <td>3</td>\n",
       "      <td>0.269987</td>\n",
       "      <td>1</td>\n",
       "      <td>-0.310318</td>\n",
       "      <td>6.732664</td>\n",
       "      <td>1.031394</td>\n",
       "      <td>2.243608</td>\n",
       "      <td>-3.275527</td>\n",
       "      <td>0</td>\n",
       "      <td>17322.0</td>\n",
       "      <td>0.029576</td>\n",
       "    </tr>\n",
       "    <tr>\n",
       "      <th>2017-06-06</th>\n",
       "      <td>sh.600000</td>\n",
       "      <td>12.80</td>\n",
       "      <td>12.84</td>\n",
       "      <td>12.66</td>\n",
       "      <td>12.80</td>\n",
       "      <td>12.85</td>\n",
       "      <td>36104406</td>\n",
       "      <td>4.604694e+08</td>\n",
       "      <td>3</td>\n",
       "      <td>0.128468</td>\n",
       "      <td>1</td>\n",
       "      <td>-0.389107</td>\n",
       "      <td>6.706467</td>\n",
       "      <td>1.027381</td>\n",
       "      <td>2.234878</td>\n",
       "      <td>-3.262781</td>\n",
       "      <td>0</td>\n",
       "      <td>17323.0</td>\n",
       "      <td>0.014218</td>\n",
       "    </tr>\n",
       "    <tr>\n",
       "      <th>2017-06-07</th>\n",
       "      <td>sh.600000</td>\n",
       "      <td>12.81</td>\n",
       "      <td>12.99</td>\n",
       "      <td>12.78</td>\n",
       "      <td>12.84</td>\n",
       "      <td>12.80</td>\n",
       "      <td>64395191</td>\n",
       "      <td>8.277666e+08</td>\n",
       "      <td>3</td>\n",
       "      <td>0.229134</td>\n",
       "      <td>1</td>\n",
       "      <td>0.312500</td>\n",
       "      <td>6.727425</td>\n",
       "      <td>1.030591</td>\n",
       "      <td>2.241862</td>\n",
       "      <td>-3.272978</td>\n",
       "      <td>0</td>\n",
       "      <td>17324.0</td>\n",
       "      <td>0.016432</td>\n",
       "    </tr>\n",
       "    <tr>\n",
       "      <th>...</th>\n",
       "      <td>...</td>\n",
       "      <td>...</td>\n",
       "      <td>...</td>\n",
       "      <td>...</td>\n",
       "      <td>...</td>\n",
       "      <td>...</td>\n",
       "      <td>...</td>\n",
       "      <td>...</td>\n",
       "      <td>...</td>\n",
       "      <td>...</td>\n",
       "      <td>...</td>\n",
       "      <td>...</td>\n",
       "      <td>...</td>\n",
       "      <td>...</td>\n",
       "      <td>...</td>\n",
       "      <td>...</td>\n",
       "      <td>...</td>\n",
       "      <td>...</td>\n",
       "      <td>...</td>\n",
       "    </tr>\n",
       "    <tr>\n",
       "      <th>2017-12-25</th>\n",
       "      <td>sh.600000</td>\n",
       "      <td>12.61</td>\n",
       "      <td>12.68</td>\n",
       "      <td>12.56</td>\n",
       "      <td>12.59</td>\n",
       "      <td>12.62</td>\n",
       "      <td>19306662</td>\n",
       "      <td>2.435537e+08</td>\n",
       "      <td>3</td>\n",
       "      <td>0.068698</td>\n",
       "      <td>1</td>\n",
       "      <td>-0.237716</td>\n",
       "      <td>6.804447</td>\n",
       "      <td>0.953811</td>\n",
       "      <td>2.244659</td>\n",
       "      <td>-1.985017</td>\n",
       "      <td>0</td>\n",
       "      <td>17525.0</td>\n",
       "      <td>0.009554</td>\n",
       "    </tr>\n",
       "    <tr>\n",
       "      <th>2017-12-26</th>\n",
       "      <td>sh.600000</td>\n",
       "      <td>12.57</td>\n",
       "      <td>12.66</td>\n",
       "      <td>12.56</td>\n",
       "      <td>12.64</td>\n",
       "      <td>12.59</td>\n",
       "      <td>15225722</td>\n",
       "      <td>1.922191e+08</td>\n",
       "      <td>3</td>\n",
       "      <td>0.054177</td>\n",
       "      <td>1</td>\n",
       "      <td>0.397142</td>\n",
       "      <td>6.831470</td>\n",
       "      <td>0.957599</td>\n",
       "      <td>2.253573</td>\n",
       "      <td>-1.992900</td>\n",
       "      <td>0</td>\n",
       "      <td>17526.0</td>\n",
       "      <td>0.007962</td>\n",
       "    </tr>\n",
       "    <tr>\n",
       "      <th>2017-12-27</th>\n",
       "      <td>sh.600000</td>\n",
       "      <td>12.65</td>\n",
       "      <td>12.66</td>\n",
       "      <td>12.53</td>\n",
       "      <td>12.62</td>\n",
       "      <td>12.64</td>\n",
       "      <td>32731881</td>\n",
       "      <td>4.121980e+08</td>\n",
       "      <td>3</td>\n",
       "      <td>0.116468</td>\n",
       "      <td>1</td>\n",
       "      <td>-0.158231</td>\n",
       "      <td>6.820661</td>\n",
       "      <td>0.956084</td>\n",
       "      <td>2.250008</td>\n",
       "      <td>-1.989747</td>\n",
       "      <td>0</td>\n",
       "      <td>17527.0</td>\n",
       "      <td>0.010375</td>\n",
       "    </tr>\n",
       "    <tr>\n",
       "      <th>2017-12-28</th>\n",
       "      <td>sh.600000</td>\n",
       "      <td>12.60</td>\n",
       "      <td>12.66</td>\n",
       "      <td>12.53</td>\n",
       "      <td>12.54</td>\n",
       "      <td>12.62</td>\n",
       "      <td>23870824</td>\n",
       "      <td>3.008340e+08</td>\n",
       "      <td>3</td>\n",
       "      <td>0.084938</td>\n",
       "      <td>1</td>\n",
       "      <td>-0.633914</td>\n",
       "      <td>6.777423</td>\n",
       "      <td>0.950023</td>\n",
       "      <td>2.235744</td>\n",
       "      <td>-1.977134</td>\n",
       "      <td>0</td>\n",
       "      <td>17528.0</td>\n",
       "      <td>0.010375</td>\n",
       "    </tr>\n",
       "    <tr>\n",
       "      <th>2017-12-29</th>\n",
       "      <td>sh.600000</td>\n",
       "      <td>12.52</td>\n",
       "      <td>12.62</td>\n",
       "      <td>12.51</td>\n",
       "      <td>12.59</td>\n",
       "      <td>12.54</td>\n",
       "      <td>16351826</td>\n",
       "      <td>2.057529e+08</td>\n",
       "      <td>3</td>\n",
       "      <td>0.058184</td>\n",
       "      <td>1</td>\n",
       "      <td>0.398726</td>\n",
       "      <td>6.804447</td>\n",
       "      <td>0.953811</td>\n",
       "      <td>2.244659</td>\n",
       "      <td>-1.985017</td>\n",
       "      <td>0</td>\n",
       "      <td>17529.0</td>\n",
       "      <td>0.008793</td>\n",
       "    </tr>\n",
       "  </tbody>\n",
       "</table>\n",
       "<p>147 rows × 19 columns</p>\n",
       "</div>"
      ],
      "text/plain": [
       "                 code   open   high    low  close  preclose    volume  \\\n",
       "date                                                                    \n",
       "2017-06-01  sh.600000  12.78  12.97  12.69  12.92     12.84  96217055   \n",
       "2017-06-02  sh.600000  12.93  13.01  12.74  12.89     12.92  80197701   \n",
       "2017-06-05  sh.600000  12.79  12.88  12.51  12.85     12.89  75876475   \n",
       "2017-06-06  sh.600000  12.80  12.84  12.66  12.80     12.85  36104406   \n",
       "2017-06-07  sh.600000  12.81  12.99  12.78  12.84     12.80  64395191   \n",
       "...               ...    ...    ...    ...    ...       ...       ...   \n",
       "2017-12-25  sh.600000  12.61  12.68  12.56  12.59     12.62  19306662   \n",
       "2017-12-26  sh.600000  12.57  12.66  12.56  12.64     12.59  15225722   \n",
       "2017-12-27  sh.600000  12.65  12.66  12.53  12.62     12.64  32731881   \n",
       "2017-12-28  sh.600000  12.60  12.66  12.53  12.54     12.62  23870824   \n",
       "2017-12-29  sh.600000  12.52  12.62  12.51  12.59     12.54  16351826   \n",
       "\n",
       "                  amount  adjustflag      turn  tradestatus    pctChg  \\\n",
       "date                                                                    \n",
       "2017-06-01  1.235216e+09           3  0.342364            1  0.623052   \n",
       "2017-06-02  1.034450e+09           3  0.285363            1 -0.232196   \n",
       "2017-06-05  9.632273e+08           3  0.269987            1 -0.310318   \n",
       "2017-06-06  4.604694e+08           3  0.128468            1 -0.389107   \n",
       "2017-06-07  8.277666e+08           3  0.229134            1  0.312500   \n",
       "...                  ...         ...       ...          ...       ...   \n",
       "2017-12-25  2.435537e+08           3  0.068698            1 -0.237716   \n",
       "2017-12-26  1.922191e+08           3  0.054177            1  0.397142   \n",
       "2017-12-27  4.121980e+08           3  0.116468            1 -0.158231   \n",
       "2017-12-28  3.008340e+08           3  0.084938            1 -0.633914   \n",
       "2017-12-29  2.057529e+08           3  0.058184            1  0.398726   \n",
       "\n",
       "               peTTM     pbMRQ     psTTM  pcfNcfTTM  isST     time     raise  \n",
       "date                                                                          \n",
       "2017-06-01  6.769340  1.037013  2.255830  -3.293370     0  17318.0  0.022065  \n",
       "2017-06-02  6.753622  1.034605  2.250592  -3.285723     0  17319.0  0.021193  \n",
       "2017-06-05  6.732664  1.031394  2.243608  -3.275527     0  17322.0  0.029576  \n",
       "2017-06-06  6.706467  1.027381  2.234878  -3.262781     0  17323.0  0.014218  \n",
       "2017-06-07  6.727425  1.030591  2.241862  -3.272978     0  17324.0  0.016432  \n",
       "...              ...       ...       ...        ...   ...      ...       ...  \n",
       "2017-12-25  6.804447  0.953811  2.244659  -1.985017     0  17525.0  0.009554  \n",
       "2017-12-26  6.831470  0.957599  2.253573  -1.992900     0  17526.0  0.007962  \n",
       "2017-12-27  6.820661  0.956084  2.250008  -1.989747     0  17527.0  0.010375  \n",
       "2017-12-28  6.777423  0.950023  2.235744  -1.977134     0  17528.0  0.010375  \n",
       "2017-12-29  6.804447  0.953811  2.244659  -1.985017     0  17529.0  0.008793  \n",
       "\n",
       "[147 rows x 19 columns]"
      ]
     },
     "execution_count": 185,
     "metadata": {},
     "output_type": "execute_result"
    }
   ],
   "source": [
    "r = (df.high - df.low)/ df.low\n",
    "df['raise'] = r\n",
    "df\n",
    "# rl = r.to_list()"
   ]
  },
  {
   "cell_type": "code",
   "execution_count": 196,
   "id": "14fa9879",
   "metadata": {},
   "outputs": [
    {
     "name": "stdout",
     "output_type": "stream",
     "text": [
      "收盘比开盘上涨3%以上的日期有：\n",
      "['2017-06-09T00:00:00.000000000']\n",
      "['2017-06-22T00:00:00.000000000']\n",
      "['2017-07-11T00:00:00.000000000']\n",
      "['2017-07-13T00:00:00.000000000']\n",
      "['2017-07-14T00:00:00.000000000']\n",
      "['2017-07-17T00:00:00.000000000']\n",
      "['2017-11-17T00:00:00.000000000']\n",
      "['2017-11-21T00:00:00.000000000']\n",
      "['2017-11-22T00:00:00.000000000']\n",
      "['2017-11-23T00:00:00.000000000']\n"
     ]
    }
   ],
   "source": [
    "print('收盘比开盘上涨3%以上的日期有：')\n",
    "for i in r:\n",
    "    if i > 0.03:\n",
    "        print( df[df['raise'] == i].index.values)\n",
    "        "
   ]
  },
  {
   "cell_type": "code",
   "execution_count": 148,
   "id": "6314323a",
   "metadata": {},
   "outputs": [],
   "source": [
    "# rp = r.apply(lambda x: format(x, '.2%'))"
   ]
  },
  {
   "cell_type": "code",
   "execution_count": null,
   "id": "33f34b8d",
   "metadata": {},
   "outputs": [],
   "source": []
  }
 ],
 "metadata": {
  "kernelspec": {
   "display_name": "Python 3 (ipykernel)",
   "language": "python",
   "name": "python3"
  },
  "language_info": {
   "codemirror_mode": {
    "name": "ipython",
    "version": 3
   },
   "file_extension": ".py",
   "mimetype": "text/x-python",
   "name": "python",
   "nbconvert_exporter": "python",
   "pygments_lexer": "ipython3",
   "version": "3.10.13"
  }
 },
 "nbformat": 4,
 "nbformat_minor": 5
}
